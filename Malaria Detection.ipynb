{
 "cells": [
  {
   "cell_type": "code",
   "execution_count": 6,
   "id": "c302d439",
   "metadata": {},
   "outputs": [],
   "source": [
    "from tensorflow.keras.layers import Input, Lambda, Dense, Flatten,Conv2D\n",
    "from tensorflow.keras.models import Model\n",
    "from tensorflow.keras.layers import MaxPooling2D\n",
    "from tensorflow.keras.applications.resnet50 import preprocess_input\n",
    "from tensorflow.keras.preprocessing import image\n",
    "from tensorflow.keras.preprocessing.image import ImageDataGenerator,load_img\n",
    "from tensorflow.keras.models import Sequential\n",
    "import numpy as np\n",
    "from glob import glob\n",
    "import matplotlib.pyplot as plt"
   ]
  },
  {
   "cell_type": "code",
   "execution_count": 7,
   "id": "6b46fbbc",
   "metadata": {},
   "outputs": [],
   "source": [
    "IMAGE_SIZE = [224, 224]\n",
    "\n",
    "train_path = 'D:\\data\\Dataset\\Train'\n",
    "valid_path = 'D:\\data\\Dataset\\Test'"
   ]
  },
  {
   "cell_type": "code",
   "execution_count": 8,
   "id": "2c996457",
   "metadata": {},
   "outputs": [],
   "source": [
    "from tensorflow.keras.preprocessing.image import ImageDataGenerator\n",
    "\n",
    "train_datagen = ImageDataGenerator(rescale = 1./255,\n",
    "                                   shear_range = 0.2,\n",
    "                                   zoom_range = 0.2,\n",
    "                                   horizontal_flip = True)\n",
    "\n",
    "test_datagen = ImageDataGenerator(rescale = 1./255)"
   ]
  },
  {
   "cell_type": "code",
   "execution_count": 9,
   "id": "896bb55f",
   "metadata": {},
   "outputs": [
    {
     "name": "stdout",
     "output_type": "stream",
     "text": [
      "Found 416 images belonging to 2 classes.\n"
     ]
    }
   ],
   "source": [
    "training_set = train_datagen.flow_from_directory('D:\\data\\Dataset\\Train',\n",
    "                                                 target_size = (224, 224),\n",
    "                                                 batch_size = 32,\n",
    "                                                 class_mode = 'categorical')"
   ]
  },
  {
   "cell_type": "code",
   "execution_count": 10,
   "id": "82f9c6f1",
   "metadata": {},
   "outputs": [
    {
     "name": "stdout",
     "output_type": "stream",
     "text": [
      "Found 134 images belonging to 2 classes.\n"
     ]
    }
   ],
   "source": [
    "test_set = test_datagen.flow_from_directory('D:\\data\\Dataset\\Test',\n",
    "                                            target_size = (224, 224),\n",
    "                                            batch_size = 32,\n",
    "                                            class_mode = 'categorical')"
   ]
  },
  {
   "cell_type": "code",
   "execution_count": 11,
   "id": "4ef5df01",
   "metadata": {},
   "outputs": [
    {
     "name": "stdout",
     "output_type": "stream",
     "text": [
      "Model: \"sequential\"\n",
      "_________________________________________________________________\n",
      " Layer (type)                Output Shape              Param #   \n",
      "=================================================================\n",
      " conv2d (Conv2D)             (None, 224, 224, 16)      208       \n",
      "                                                                 \n",
      " max_pooling2d (MaxPooling2D  (None, 112, 112, 16)     0         \n",
      " )                                                               \n",
      "                                                                 \n",
      " conv2d_1 (Conv2D)           (None, 112, 112, 32)      2080      \n",
      "                                                                 \n",
      " max_pooling2d_1 (MaxPooling  (None, 56, 56, 32)       0         \n",
      " 2D)                                                             \n",
      "                                                                 \n",
      " conv2d_2 (Conv2D)           (None, 56, 56, 64)        8256      \n",
      "                                                                 \n",
      " max_pooling2d_2 (MaxPooling  (None, 28, 28, 64)       0         \n",
      " 2D)                                                             \n",
      "                                                                 \n",
      " flatten (Flatten)           (None, 50176)             0         \n",
      "                                                                 \n",
      " dense (Dense)               (None, 500)               25088500  \n",
      "                                                                 \n",
      " dense_1 (Dense)             (None, 2)                 1002      \n",
      "                                                                 \n",
      "=================================================================\n",
      "Total params: 25,100,046\n",
      "Trainable params: 25,100,046\n",
      "Non-trainable params: 0\n",
      "_________________________________________________________________\n"
     ]
    }
   ],
   "source": [
    "model=Sequential()\n",
    "model.add(Conv2D(filters=16,kernel_size=2,padding=\"same\",activation=\"relu\",input_shape=(224,224,3)))\n",
    "model.add(MaxPooling2D(pool_size=2))\n",
    "model.add(Conv2D(filters=32,kernel_size=2,padding=\"same\",activation =\"relu\"))\n",
    "model.add(MaxPooling2D(pool_size=2))\n",
    "model.add(Conv2D(filters=64,kernel_size=2,padding=\"same\",activation=\"relu\"))\n",
    "model.add(MaxPooling2D(pool_size=2))\n",
    "model.add(Flatten())\n",
    "model.add(Dense(500,activation=\"relu\"))\n",
    "model.add(Dense(2,activation=\"softmax\"))\n",
    "model.summary()"
   ]
  },
  {
   "cell_type": "code",
   "execution_count": 12,
   "id": "40a667b3",
   "metadata": {},
   "outputs": [],
   "source": [
    "model.compile(\n",
    "  loss='categorical_crossentropy',\n",
    "  optimizer='adam',\n",
    "  metrics=['accuracy']\n",
    ")"
   ]
  },
  {
   "cell_type": "code",
   "execution_count": 14,
   "id": "4b55796e",
   "metadata": {},
   "outputs": [
    {
     "name": "stderr",
     "output_type": "stream",
     "text": [
      "C:\\Users\\LENOVO\\AppData\\Local\\Temp\\ipykernel_21932\\177326590.py:1: UserWarning: `Model.fit_generator` is deprecated and will be removed in a future version. Please use `Model.fit`, which supports generators.\n",
      "  r = model.fit_generator(\n"
     ]
    },
    {
     "name": "stdout",
     "output_type": "stream",
     "text": [
      "Epoch 1/10\n",
      "13/13 [==============================] - 21s 2s/step - loss: 0.5759 - accuracy: 0.6947 - val_loss: 0.6949 - val_accuracy: 0.5224\n",
      "Epoch 2/10\n",
      "13/13 [==============================] - 21s 2s/step - loss: 0.4834 - accuracy: 0.7740 - val_loss: 0.6822 - val_accuracy: 0.5522\n",
      "Epoch 3/10\n",
      "13/13 [==============================] - 21s 2s/step - loss: 0.4133 - accuracy: 0.7981 - val_loss: 0.6840 - val_accuracy: 0.6343\n",
      "Epoch 4/10\n",
      "13/13 [==============================] - 21s 2s/step - loss: 0.4136 - accuracy: 0.8245 - val_loss: 0.7544 - val_accuracy: 0.5597\n",
      "Epoch 5/10\n",
      "13/13 [==============================] - 21s 2s/step - loss: 0.3273 - accuracy: 0.8750 - val_loss: 0.5638 - val_accuracy: 0.6940\n",
      "Epoch 6/10\n",
      "13/13 [==============================] - 21s 2s/step - loss: 0.3632 - accuracy: 0.8702 - val_loss: 0.5024 - val_accuracy: 0.7463\n",
      "Epoch 7/10\n",
      "13/13 [==============================] - 21s 2s/step - loss: 0.2786 - accuracy: 0.8990 - val_loss: 0.3648 - val_accuracy: 0.8134\n",
      "Epoch 8/10\n",
      "13/13 [==============================] - 21s 2s/step - loss: 0.2167 - accuracy: 0.9231 - val_loss: 0.6255 - val_accuracy: 0.6866\n",
      "Epoch 9/10\n",
      "13/13 [==============================] - 21s 2s/step - loss: 0.2097 - accuracy: 0.9327 - val_loss: 0.3157 - val_accuracy: 0.8806\n",
      "Epoch 10/10\n",
      "13/13 [==============================] - 22s 2s/step - loss: 0.1518 - accuracy: 0.9495 - val_loss: 0.2596 - val_accuracy: 0.8806\n"
     ]
    }
   ],
   "source": [
    "r = model.fit_generator(\n",
    "  training_set,\n",
    "  validation_data=test_set,\n",
    "  epochs=10,\n",
    "  steps_per_epoch=len(training_set),\n",
    "  validation_steps=len(test_set)\n",
    ")"
   ]
  },
  {
   "cell_type": "code",
   "execution_count": 15,
   "id": "941abe8d",
   "metadata": {},
   "outputs": [
    {
     "data": {
      "image/png": "[encoded data removed]",
      "text/plain": [
       "<Figure size 432x288 with 1 Axes>"
      ]
     },
     "metadata": {
      "needs_background": "light"
     },
     "output_type": "display_data"
    },
    {
     "data": {
      "image/png": "[encoded data removed]",
      "text/plain": [
       "<Figure size 432x288 with 1 Axes>"
      ]
     },
     "metadata": {
      "needs_background": "light"
     },
     "output_type": "display_data"
    }
   ],
   "source": [
    "plt.plot(r.history['loss'], label='train loss')\n",
    "plt.plot(r.history['val_loss'], label='val loss')\n",
    "plt.legend()\n",
    "plt.show()\n",
    "\n",
    "\n",
    "# plot the accuracy\n",
    "plt.plot(r.history['accuracy'], label='train acc')\n",
    "plt.plot(r.history['val_accuracy'], label='val acc')\n",
    "plt.legend()\n",
    "plt.show()\n"
   ]
  },
  {
   "cell_type": "code",
   "execution_count": 16,
   "id": "490709c1",
   "metadata": {},
   "outputs": [
    {
     "data": {
      "text/plain": [
       "array([[9.53200519e-01, 4.67994474e-02],\n",
       "       [9.92075324e-01, 7.92471319e-03],\n",
       "       [9.61964548e-01, 3.80354039e-02],\n",
       "       [9.98072743e-01, 1.92724087e-03],\n",
       "       [7.92572200e-01, 2.07427740e-01],\n",
       "       [9.96574938e-01, 3.42503726e-03],\n",
       "       [1.85636923e-01, 8.14363062e-01],\n",
       "       [2.13830963e-01, 7.86169052e-01],\n",
       "       [9.99814451e-01, 1.85586221e-04],\n",
       "       [7.32367814e-01, 2.67632246e-01],\n",
       "       [8.76285553e-01, 1.23714410e-01],\n",
       "       [9.95036662e-02, 9.00496364e-01],\n",
       "       [3.46560359e-01, 6.53439581e-01],\n",
       "       [9.97566223e-01, 2.43384507e-03],\n",
       "       [8.42070878e-01, 1.57929152e-01],\n",
       "       [9.84609604e-01, 1.53904473e-02],\n",
       "       [9.23876345e-01, 7.61236772e-02],\n",
       "       [9.68548715e-01, 3.14513259e-02],\n",
       "       [4.70359027e-01, 5.29640973e-01],\n",
       "       [4.07499939e-01, 5.92500091e-01],\n",
       "       [3.45870256e-01, 6.54129744e-01],\n",
       "       [6.54022634e-01, 3.45977426e-01],\n",
       "       [2.20317587e-01, 7.79682457e-01],\n",
       "       [1.96051419e-01, 8.03948581e-01],\n",
       "       [3.09993058e-01, 6.90006971e-01],\n",
       "       [9.82754052e-01, 1.72458719e-02],\n",
       "       [9.97342288e-01, 2.65775342e-03],\n",
       "       [4.16955560e-01, 5.83044469e-01],\n",
       "       [1.67343244e-01, 8.32656741e-01],\n",
       "       [9.96817052e-01, 3.18294205e-03],\n",
       "       [9.47415590e-01, 5.25844544e-02],\n",
       "       [1.20150834e-01, 8.79849195e-01],\n",
       "       [9.68585610e-02, 9.03141439e-01],\n",
       "       [4.84690398e-01, 5.15309632e-01],\n",
       "       [6.81940243e-02, 9.31805909e-01],\n",
       "       [9.91721034e-01, 8.27902183e-03],\n",
       "       [9.91121054e-01, 8.87887087e-03],\n",
       "       [9.98634160e-01, 1.36587396e-03],\n",
       "       [9.11651254e-01, 8.83487687e-02],\n",
       "       [2.31289610e-01, 7.68710434e-01],\n",
       "       [9.96324480e-01, 3.67546920e-03],\n",
       "       [1.39567479e-01, 8.60432506e-01],\n",
       "       [9.91065443e-01, 8.93453415e-03],\n",
       "       [9.94025707e-01, 5.97428670e-03],\n",
       "       [6.81671560e-01, 3.18328440e-01],\n",
       "       [9.36799943e-01, 6.31999969e-02],\n",
       "       [5.89793682e-01, 4.10206378e-01],\n",
       "       [7.95275867e-01, 2.04724178e-01],\n",
       "       [6.03394210e-01, 3.96605819e-01],\n",
       "       [1.61289454e-01, 8.38710487e-01],\n",
       "       [9.99976516e-01, 2.34900144e-05],\n",
       "       [9.37178731e-01, 6.28212318e-02],\n",
       "       [9.75734711e-01, 2.42653247e-02],\n",
       "       [1.96934819e-01, 8.03065121e-01],\n",
       "       [6.11427486e-01, 3.88572574e-01],\n",
       "       [2.89539248e-01, 7.10460722e-01],\n",
       "       [9.97402370e-01, 2.59762607e-03],\n",
       "       [9.91068959e-01, 8.93103052e-03],\n",
       "       [2.68541753e-01, 7.31458247e-01],\n",
       "       [9.65538919e-01, 3.44610289e-02],\n",
       "       [4.43317443e-01, 5.56682527e-01],\n",
       "       [9.13062155e-01, 8.69377926e-02],\n",
       "       [8.39498758e-01, 1.60501271e-01],\n",
       "       [2.81830937e-01, 7.18169034e-01],\n",
       "       [9.21116710e-01, 7.88832605e-02],\n",
       "       [9.86151755e-01, 1.38482852e-02],\n",
       "       [9.99950051e-01, 4.99648704e-05],\n",
       "       [9.22902703e-01, 7.70972297e-02],\n",
       "       [8.26727569e-01, 1.73272446e-01],\n",
       "       [3.03534895e-01, 6.96465075e-01],\n",
       "       [3.12937647e-01, 6.87062323e-01],\n",
       "       [9.82096314e-01, 1.79037414e-02],\n",
       "       [9.84470010e-01, 1.55299287e-02],\n",
       "       [2.05517799e-01, 7.94482112e-01],\n",
       "       [9.94745255e-01, 5.25479205e-03],\n",
       "       [9.85183835e-01, 1.48161398e-02],\n",
       "       [9.96946990e-01, 3.05300183e-03],\n",
       "       [3.06104571e-01, 6.93895400e-01],\n",
       "       [8.66793573e-01, 1.33206472e-01],\n",
       "       [9.99562323e-01, 4.37614013e-04],\n",
       "       [1.96247861e-01, 8.03752124e-01],\n",
       "       [9.76680696e-01, 2.33193357e-02],\n",
       "       [5.20293772e-01, 4.79706198e-01],\n",
       "       [9.98340130e-01, 1.65990926e-03],\n",
       "       [9.99995947e-01, 4.03661033e-06],\n",
       "       [6.83722854e-01, 3.16277117e-01],\n",
       "       [4.11487520e-01, 5.88512480e-01],\n",
       "       [5.17250478e-01, 4.82749552e-01],\n",
       "       [6.06227875e-01, 3.93772155e-01],\n",
       "       [3.85318011e-01, 6.14681959e-01],\n",
       "       [9.42328274e-01, 5.76718040e-02],\n",
       "       [6.76036000e-01, 3.23964030e-01],\n",
       "       [1.95119023e-01, 8.04880977e-01],\n",
       "       [9.56115246e-01, 4.38848101e-02],\n",
       "       [8.31556499e-01, 1.68443531e-01],\n",
       "       [1.73485905e-01, 8.26514065e-01],\n",
       "       [9.90656614e-01, 9.34335124e-03],\n",
       "       [1.05233394e-01, 8.94766629e-01],\n",
       "       [9.99995589e-01, 4.44419311e-06],\n",
       "       [9.82736349e-01, 1.72637030e-02],\n",
       "       [9.96408045e-01, 3.59191955e-03],\n",
       "       [1.31110489e-01, 8.68889511e-01],\n",
       "       [9.47055578e-01, 5.29444143e-02],\n",
       "       [9.84917700e-01, 1.50822876e-02],\n",
       "       [2.70358145e-01, 7.29641855e-01],\n",
       "       [9.64512229e-01, 3.54878008e-02],\n",
       "       [2.02499211e-01, 7.97500789e-01],\n",
       "       [3.37063164e-01, 6.62936866e-01],\n",
       "       [9.79926527e-01, 2.00735349e-02],\n",
       "       [9.70706165e-01, 2.92937979e-02],\n",
       "       [9.87816632e-01, 1.21833570e-02],\n",
       "       [2.48720214e-01, 7.51279771e-01],\n",
       "       [5.86605370e-01, 4.13394600e-01],\n",
       "       [2.13504344e-01, 7.86495686e-01],\n",
       "       [9.95851278e-01, 4.14872542e-03],\n",
       "       [9.90262985e-01, 9.73696355e-03],\n",
       "       [9.87420499e-01, 1.25794634e-02],\n",
       "       [9.92474020e-01, 7.52598047e-03],\n",
       "       [9.67806816e-01, 3.21931951e-02],\n",
       "       [9.99866247e-01, 1.33722511e-04],\n",
       "       [9.99506354e-01, 4.93685482e-04],\n",
       "       [1.88723579e-01, 8.11276436e-01],\n",
       "       [1.07318826e-01, 8.92681181e-01],\n",
       "       [1.20931245e-01, 8.79068673e-01],\n",
       "       [2.18448833e-01, 7.81551123e-01],\n",
       "       [8.38281870e-01, 1.61718071e-01],\n",
       "       [2.37417966e-01, 7.62582004e-01],\n",
       "       [6.83620036e-01, 3.16379964e-01],\n",
       "       [9.97873902e-01, 2.12611817e-03],\n",
       "       [5.73294759e-01, 4.26705271e-01],\n",
       "       [2.22796306e-01, 7.77203679e-01],\n",
       "       [9.85216737e-01, 1.47832474e-02],\n",
       "       [9.93300915e-01, 6.69908617e-03],\n",
       "       [2.26380020e-01, 7.73619950e-01]], dtype=float32)"
      ]
     },
     "execution_count": 16,
     "metadata": {},
     "output_type": "execute_result"
    }
   ],
   "source": [
    "y_pred = model.predict(test_set)\n",
    "y_pred"
   ]
  },
  {
   "cell_type": "code",
   "execution_count": 17,
   "id": "33720ceb",
   "metadata": {},
   "outputs": [],
   "source": [
    "import numpy as np\n",
    "y_pred = np.argmax(y_pred, axis=1)"
   ]
  },
  {
   "cell_type": "code",
   "execution_count": 18,
   "id": "e9bdb595",
   "metadata": {},
   "outputs": [
    {
     "data": {
      "text/plain": [
       "array([0, 0, 0, 0, 0, 0, 1, 1, 0, 0, 0, 1, 1, 0, 0, 0, 0, 0, 1, 1, 1, 0,\n",
       "       1, 1, 1, 0, 0, 1, 1, 0, 0, 1, 1, 1, 1, 0, 0, 0, 0, 1, 0, 1, 0, 0,\n",
       "       0, 0, 0, 0, 0, 1, 0, 0, 0, 1, 0, 1, 0, 0, 1, 0, 1, 0, 0, 1, 0, 0,\n",
       "       0, 0, 0, 1, 1, 0, 0, 1, 0, 0, 0, 1, 0, 0, 1, 0, 0, 0, 0, 0, 1, 0,\n",
       "       0, 1, 0, 0, 1, 0, 0, 1, 0, 1, 0, 0, 0, 1, 0, 0, 1, 0, 1, 1, 0, 0,\n",
       "       0, 1, 0, 1, 0, 0, 0, 0, 0, 0, 0, 1, 1, 1, 1, 0, 1, 0, 0, 0, 1, 0,\n",
       "       0, 1], dtype=int64)"
      ]
     },
     "execution_count": 18,
     "metadata": {},
     "output_type": "execute_result"
    }
   ],
   "source": [
    "y_pred"
   ]
  },
  {
   "cell_type": "code",
   "execution_count": 19,
   "id": "5dcc8cdd",
   "metadata": {},
   "outputs": [],
   "source": [
    "from tensorflow.keras.models import load_model\n",
    "model.save('model_cnn.h5')"
   ]
  }
 ],
 "metadata": {
  "kernelspec": {
   "display_name": "Python 3 (ipykernel)",
   "language": "python",
   "name": "python3"
  },
  "language_info": {
   "codemirror_mode": {
    "name": "ipython",
    "version": 3
   },
   "file_extension": ".py",
   "mimetype": "text/x-python",
   "name": "python",
   "nbconvert_exporter": "python",
   "pygments_lexer": "ipython3",
   "version": "3.10.2"
  }
 },
 "nbformat": 4,
 "nbformat_minor": 5
}
